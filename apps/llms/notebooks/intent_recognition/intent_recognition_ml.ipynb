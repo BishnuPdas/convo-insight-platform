{
  "cells": [
    {
      "cell_type": "markdown",
      "metadata": {
        "id": "WmSCs6z-JPTE"
      },
      "source": [
        "# Intent recognition\n",
        "\n",
        "### Dataset used:\n",
        "ecommerce-intent.csv\n",
        "\n",
        "### Steps\n",
        "\n",
        "- Preprocess and clean the dataset\n",
        "- tokenization, stopword removal, and lemmatization using NLTK\n",
        "- Create Word2Vec embeddings to capture semantic meaning in the text\n",
        "- Create document vectors by averaging Word2Vec embeddings for each word in a document\n",
        "- Train randomforestclassifier on these document vectors to predict intents\n",
        "- Incorporate tfidf features to capture important words and improve the model's performance\n",
        "- Save the trained model"
      ]
    },
    {
      "cell_type": "code",
      "execution_count": null,
      "metadata": {
        "colab": {
          "base_uri": "https://localhost:8080/"
        },
        "id": "JZg6Ov3MJ9ty",
        "outputId": "f4a7fa82-4c48-4782-bf0b-c7866a3de2d2"
      },
      "outputs": [],
      "source": [
        "!python -m spacy download en_core_web_sm"
      ]
    },
    {
      "cell_type": "code",
      "execution_count": 1,
      "metadata": {
        "colab": {
          "base_uri": "https://localhost:8080/"
        },
        "id": "0a4pgVEnJPTI",
        "outputId": "ab320795-aa6a-4304-c3e4-116b6c99f7af"
      },
      "outputs": [
        {
          "name": "stderr",
          "output_type": "stream",
          "text": [
            "[nltk_data] Downloading package punkt to /home/ram/nltk_data...\n",
            "[nltk_data]   Package punkt is already up-to-date!\n",
            "[nltk_data] Downloading package stopwords to /home/ram/nltk_data...\n",
            "[nltk_data]   Package stopwords is already up-to-date!\n",
            "[nltk_data] Downloading package wordnet to /home/ram/nltk_data...\n",
            "[nltk_data]   Package wordnet is already up-to-date!\n"
          ]
        },
        {
          "data": {
            "text/plain": [
              "True"
            ]
          },
          "execution_count": 1,
          "metadata": {},
          "output_type": "execute_result"
        }
      ],
      "source": [
        "import nltk\n",
        "import joblib\n",
        "import re\n",
        "import pandas as pd\n",
        "import numpy as np\n",
        "from nltk.tokenize import word_tokenize\n",
        "from nltk.corpus import stopwords\n",
        "from nltk.stem import WordNetLemmatizer\n",
        "from gensim.models import Word2Vec\n",
        "import xgboost as xgb\n",
        "from sklearn.model_selection import train_test_split\n",
        "from sklearn.preprocessing import LabelEncoder\n",
        "from sklearn.feature_extraction.text import TfidfVectorizer\n",
        "from sklearn.ensemble import RandomForestClassifier\n",
        "from sklearn.metrics import classification_report, confusion_matrix\n",
        "import matplotlib.pyplot as plt\n",
        "import seaborn as sns\n",
        "import spacy\n",
        "nlp = spacy.load('en_core_web_sm')\n",
        "\n",
        "nltk.download('punkt')\n",
        "nltk.download('stopwords')\n",
        "nltk.download('wordnet')"
      ]
    },
    {
      "cell_type": "code",
      "execution_count": 3,
      "metadata": {
        "colab": {
          "base_uri": "https://localhost:8080/"
        },
        "id": "7NVubrCNKQcS",
        "outputId": "ea68923b-2758-47dd-8309-c0e9e790decb"
      },
      "outputs": [
        {
          "name": "stdout",
          "output_type": "stream",
          "text": [
            "Mounted at /content/drive\n"
          ]
        }
      ],
      "source": [
        "# from google.colab import drive\n",
        "# drive.mount('/content/drive')"
      ]
    },
    {
      "cell_type": "code",
      "execution_count": null,
      "metadata": {
        "id": "2CtVjyf9JPTM"
      },
      "outputs": [],
      "source": [
        "# df = pd.read_csv(\n",
        "#     \"hf://datasets/ikshana-zehntech/ecommerce_intent_recognition/ecommerce_intent.csv\")"
      ]
    },
    {
      "cell_type": "code",
      "execution_count": null,
      "metadata": {
        "id": "Q-DWFnM9JPTO"
      },
      "outputs": [],
      "source": [
        "# df.to_csv('ecommerce_intent.csv', index=False)"
      ]
    },
    {
      "cell_type": "code",
      "execution_count": null,
      "metadata": {
        "id": "2mrcEkR1JPTQ",
        "outputId": "565d9784-d6f3-4f46-e81c-876445df8f91"
      },
      "outputs": [
        {
          "data": {
            "text/html": [
              "<div>\n",
              "<style scoped>\n",
              "    .dataframe tbody tr th:only-of-type {\n",
              "        vertical-align: middle;\n",
              "    }\n",
              "\n",
              "    .dataframe tbody tr th {\n",
              "        vertical-align: top;\n",
              "    }\n",
              "\n",
              "    .dataframe thead th {\n",
              "        text-align: right;\n",
              "    }\n",
              "</style>\n",
              "<table border=\"1\" class=\"dataframe\">\n",
              "  <thead>\n",
              "    <tr style=\"text-align: right;\">\n",
              "      <th></th>\n",
              "      <th>context</th>\n",
              "      <th>response</th>\n",
              "    </tr>\n",
              "  </thead>\n",
              "  <tbody>\n",
              "    <tr>\n",
              "      <th>0</th>\n",
              "      <td>question about cancelling order 2B4FZM0C</td>\n",
              "      <td>intent: cancel_order, variable name: order_num...</td>\n",
              "    </tr>\n",
              "    <tr>\n",
              "      <th>1</th>\n",
              "      <td>i have a question about cancelling oorder 23W8...</td>\n",
              "      <td>intent: cancel_order, variable name: order_num...</td>\n",
              "    </tr>\n",
              "    <tr>\n",
              "      <th>2</th>\n",
              "      <td>i need help cancelling puchase B7UX7Q76</td>\n",
              "      <td>intent: cancel_order, variable name: order_num...</td>\n",
              "    </tr>\n",
              "    <tr>\n",
              "      <th>3</th>\n",
              "      <td>I need to cancel purchase GTY5LI52</td>\n",
              "      <td>intent: cancel_order, variable name: order_num...</td>\n",
              "    </tr>\n",
              "    <tr>\n",
              "      <th>4</th>\n",
              "      <td>I cannot afford this order, cancel purchase 2L...</td>\n",
              "      <td>intent: cancel_order, variable name: order_num...</td>\n",
              "    </tr>\n",
              "  </tbody>\n",
              "</table>\n",
              "</div>"
            ],
            "text/plain": [
              "                                             context  \\\n",
              "0           question about cancelling order 2B4FZM0C   \n",
              "1  i have a question about cancelling oorder 23W8...   \n",
              "2            i need help cancelling puchase B7UX7Q76   \n",
              "3                 I need to cancel purchase GTY5LI52   \n",
              "4  I cannot afford this order, cancel purchase 2L...   \n",
              "\n",
              "                                            response  \n",
              "0  intent: cancel_order, variable name: order_num...  \n",
              "1  intent: cancel_order, variable name: order_num...  \n",
              "2  intent: cancel_order, variable name: order_num...  \n",
              "3  intent: cancel_order, variable name: order_num...  \n",
              "4  intent: cancel_order, variable name: order_num...  "
            ]
          },
          "execution_count": 3,
          "metadata": {},
          "output_type": "execute_result"
        }
      ],
      "source": [
        "df = pd.read_csv('ecommerce_intent.csv')\n",
        "df.head()"
      ]
    },
    {
      "cell_type": "code",
      "execution_count": null,
      "metadata": {
        "id": "BOeggU9lJPTS",
        "outputId": "10c8d27b-1496-4e74-9cf6-2466862375c4"
      },
      "outputs": [
        {
          "data": {
            "text/plain": [
              "(27869, 2)"
            ]
          },
          "execution_count": 5,
          "metadata": {},
          "output_type": "execute_result"
        }
      ],
      "source": [
        "df.shape"
      ]
    },
    {
      "cell_type": "code",
      "execution_count": null,
      "metadata": {
        "id": "A2nOBA-WJPTT",
        "outputId": "31c3073f-c3af-4751-da46-1c173d9ac45b"
      },
      "outputs": [
        {
          "data": {
            "text/plain": [
              "Index(['context', ' response', 'cleaned_text'], dtype='object')"
            ]
          },
          "execution_count": 7,
          "metadata": {},
          "output_type": "execute_result"
        }
      ],
      "source": [
        "df.columns"
      ]
    },
    {
      "cell_type": "code",
      "execution_count": 4,
      "metadata": {
        "id": "PFe2pbHmJum6"
      },
      "outputs": [
        {
          "name": "stdout",
          "output_type": "stream",
          "text": [
            "{'we', '’re', 'nevertheless', 'be', 'just', 'afterwards', 'thru', 'into', 'become', 'several', 'five', 'against', 'enough', 'down', 'seem', 'this', 'who', 'couldn', 'via', 'thence', 'again', 'will', 'll', 'wouldn', 'say', 'thus', 'four', 'hereafter', \"don't\", 'alone', 'hereupon', 'at', 'meanwhile', 'anywhere', 'me', 'n’t', 'than', 'themselves', 'very', 'side', 'herein', 'indeed', 'that', 't', 'but', 'a', 'moreover', 'three', 'before', 'see', 'he', 'with', \"'ll\", '’ll', 'anyway', \"'re\", 'o', 'own', '‘m', 'during', 'what', 'myself', \"aren't\", 'whereupon', 'it', 'wherein', 'mustn', 'in', 'all', 'hasn', 'should', 'less', 'does', 'else', 'and', 'had', 'ours', 'much', 'already', 'full', 'itself', 'quite', \"'d\", 'almost', 'often', 'm', 'must', 'its', 'latterly', 'too', 'hadn', 'now', 'forty', 'am', 'hers', 'towards', 'show', 'whether', 'twelve', 'the', 'after', 'from', \"you've\", 'our', 'other', 'yet', 'has', 'could', 'well', 'only', 'whole', 'haven', 're', 'seeming', 'keep', 've', 'shan', 'onto', 'ever', 'fifteen', 'various', 'hence', 'seems', '‘s', 'same', 'became', 'thereby', 'didn', 'namely', \"you'd\", 'something', 'hundred', 'thereafter', 'done', 'hereby', 'though', 'your', 'however', 'doing', 'won', 'latter', \"it's\", 'their', 'might', 'whence', 'sixty', 'eight', 'except', 'on', 'wherever', 'name', 'whatever', 'wasn', 'along', 'about', \"should've\", 'more', 'here', 'which', 'over', 'back', 'ten', '‘re', 'of', 'until', 'they', 'she', 'per', '‘ll', 'under', \"you're\", 'are', 'd', 'another', 'beforehand', 'last', 'whose', \"'ve\", 'eleven', 'up', 'whoever', 'out', 'through', 'rather', 'among', 'most', 'although', 'make', 'beyond', 'may', 'been', 'being', 'please', 'for', 'can', 'shouldn', 'between', 'how', \"she's\", 'move', 'yourself', 'or', 'don', 'fifty', 'besides', 'seemed', 'such', 'you', 'nowhere', 'if', 'nothing', 'together', 'ourselves', 'least', 'his', 'once', 'yours', 'someone', 'becomes', 'beside', 'everyone', 'go', 'yourselves', 'also', 'those', 'elsewhere', 'across', 'six', 'amongst', 'therein', 'aren', '’d', '’s', 'every', 'both', 'regarding', 'nobody', 'therefore', 'anyhow', 'as', 'serious', 'whenever', 'first', \"'m\", 'whither', 'because', 'take', 'otherwise', 'formerly', 'while', 'still', 'isn', 'even', 'by', 'himself', 'ma', 'put', 'then', 'sometime', 'call', 'an', 'needn', 'empty', 'unless', 'ain', 'without', 'my', 'within', 'when', 'ca', 'part', 'do', 'two', 'somewhere', 'thereupon', 'doesn', 'due', 'where', 'throughout', 'mine', \"that'll\", 'why', 'some', 'whereafter', '’m', 'whom', 'next', 'was', 'since', 'toward', 'really', 'any', 'everything', 'there', '‘d', 'bottom', 'above', 'used', 'below', \"you'll\", 'each', 'front', 'former', 'these', 'made', 'twenty', 'whereby', 'sometimes', 'were', 's', 'mostly', '’ve', 'everywhere', 'either', 'him', 'top', 'give', 'others', 'mightn', 'y', 'is', 'anyone', 'anything', 'behind', 'many', 'n‘t', 'always', 'one', 'becoming', 'noone', 'few', 'somehow', 'third', 'did', 'i', 'herself', 'them', 'having', 'us', 'further', 'nine', 'would', 'have', 'off', 'amount', 'whereas', '‘ve', 'perhaps', 'her', 'so', 'weren', 'around', 'using', 'theirs', \"'s\", 'to', 'get', 'upon'}\n"
          ]
        }
      ],
      "source": [
        "def get_custom_stopwords():\n",
        "    nltk_stop_words = set(stopwords.words('english'))\n",
        "    spacy_stop_words = nlp.Defaults.stop_words\n",
        "\n",
        "    negation_words = {\n",
        "        'no', 'not', 'nor', 'neither', 'never', 'none',\n",
        "        \"n't\", 'cannot', \"couldn't\", \"didn't\", \"doesn't\",\n",
        "        \"hadn't\", \"hasn't\", \"haven't\", \"isn't\", \"mightn't\",\n",
        "        \"mustn't\", \"needn't\", \"shan't\", \"shouldn't\", \"wasn't\",\n",
        "        \"weren't\", \"won't\", \"wouldn't\"\n",
        "    }\n",
        "\n",
        "    combined_stopwords = nltk_stop_words.union(spacy_stop_words)\n",
        "    custom_stopwords = combined_stopwords - negation_words\n",
        "    return custom_stopwords\n",
        "\n",
        "\n",
        "custom_stopwords = get_custom_stopwords()\n",
        "print(custom_stopwords)"
      ]
    },
    {
      "cell_type": "code",
      "execution_count": 71,
      "metadata": {
        "colab": {
          "base_uri": "https://localhost:8080/",
          "height": 547
        },
        "id": "jkhEm4ZdJPTV",
        "outputId": "126e3085-314b-4fac-c918-5816d1797a66"
      },
      "outputs": [
        {
          "ename": "KeyError",
          "evalue": "'content'",
          "output_type": "error",
          "traceback": [
            "\u001b[0;31m---------------------------------------------------------------------------\u001b[0m",
            "\u001b[0;31mKeyError\u001b[0m                                  Traceback (most recent call last)",
            "\u001b[0;32m/usr/local/lib/python3.10/dist-packages/pandas/core/indexes/base.py\u001b[0m in \u001b[0;36mget_loc\u001b[0;34m(self, key)\u001b[0m\n\u001b[1;32m   3804\u001b[0m         \u001b[0;32mtry\u001b[0m\u001b[0;34m:\u001b[0m\u001b[0;34m\u001b[0m\u001b[0;34m\u001b[0m\u001b[0m\n\u001b[0;32m-> 3805\u001b[0;31m             \u001b[0;32mreturn\u001b[0m \u001b[0mself\u001b[0m\u001b[0;34m.\u001b[0m\u001b[0m_engine\u001b[0m\u001b[0;34m.\u001b[0m\u001b[0mget_loc\u001b[0m\u001b[0;34m(\u001b[0m\u001b[0mcasted_key\u001b[0m\u001b[0;34m)\u001b[0m\u001b[0;34m\u001b[0m\u001b[0;34m\u001b[0m\u001b[0m\n\u001b[0m\u001b[1;32m   3806\u001b[0m         \u001b[0;32mexcept\u001b[0m \u001b[0mKeyError\u001b[0m \u001b[0;32mas\u001b[0m \u001b[0merr\u001b[0m\u001b[0;34m:\u001b[0m\u001b[0;34m\u001b[0m\u001b[0;34m\u001b[0m\u001b[0m\n",
            "\u001b[0;32mindex.pyx\u001b[0m in \u001b[0;36mpandas._libs.index.IndexEngine.get_loc\u001b[0;34m()\u001b[0m\n",
            "\u001b[0;32mindex.pyx\u001b[0m in \u001b[0;36mpandas._libs.index.IndexEngine.get_loc\u001b[0;34m()\u001b[0m\n",
            "\u001b[0;32mpandas/_libs/hashtable_class_helper.pxi\u001b[0m in \u001b[0;36mpandas._libs.hashtable.PyObjectHashTable.get_item\u001b[0;34m()\u001b[0m\n",
            "\u001b[0;32mpandas/_libs/hashtable_class_helper.pxi\u001b[0m in \u001b[0;36mpandas._libs.hashtable.PyObjectHashTable.get_item\u001b[0;34m()\u001b[0m\n",
            "\u001b[0;31mKeyError\u001b[0m: 'content'",
            "\nThe above exception was the direct cause of the following exception:\n",
            "\u001b[0;31mKeyError\u001b[0m                                  Traceback (most recent call last)",
            "\u001b[0;32m<ipython-input-71-243604682bf9>\u001b[0m in \u001b[0;36m<cell line: 23>\u001b[0;34m()\u001b[0m\n\u001b[1;32m     21\u001b[0m \u001b[0;34m\u001b[0m\u001b[0m\n\u001b[1;32m     22\u001b[0m \u001b[0;34m\u001b[0m\u001b[0m\n\u001b[0;32m---> 23\u001b[0;31m \u001b[0mcleaned_df\u001b[0m \u001b[0;34m=\u001b[0m \u001b[0mclean_intent_recognition_data\u001b[0m\u001b[0;34m(\u001b[0m\u001b[0mdf\u001b[0m\u001b[0;34m)\u001b[0m\u001b[0;34m\u001b[0m\u001b[0;34m\u001b[0m\u001b[0m\n\u001b[0m",
            "\u001b[0;32m<ipython-input-71-243604682bf9>\u001b[0m in \u001b[0;36mclean_intent_recognition_data\u001b[0;34m(df)\u001b[0m\n\u001b[1;32m     12\u001b[0m \u001b[0;34m\u001b[0m\u001b[0m\n\u001b[1;32m     13\u001b[0m     \u001b[0;31m# Clean the context column\u001b[0m\u001b[0;34m\u001b[0m\u001b[0;34m\u001b[0m\u001b[0m\n\u001b[0;32m---> 14\u001b[0;31m     \u001b[0mdf\u001b[0m\u001b[0;34m[\u001b[0m\u001b[0;34m'cleaned_text'\u001b[0m\u001b[0;34m]\u001b[0m \u001b[0;34m=\u001b[0m \u001b[0mdf\u001b[0m\u001b[0;34m[\u001b[0m\u001b[0;34m'content'\u001b[0m\u001b[0;34m]\u001b[0m\u001b[0;34m.\u001b[0m\u001b[0mapply\u001b[0m\u001b[0;34m(\u001b[0m\u001b[0mclean_context\u001b[0m\u001b[0;34m)\u001b[0m\u001b[0;34m\u001b[0m\u001b[0;34m\u001b[0m\u001b[0m\n\u001b[0m\u001b[1;32m     15\u001b[0m \u001b[0;34m\u001b[0m\u001b[0m\n\u001b[1;32m     16\u001b[0m     \u001b[0;31m# Extract intent from the response column\u001b[0m\u001b[0;34m\u001b[0m\u001b[0;34m\u001b[0m\u001b[0m\n",
            "\u001b[0;32m/usr/local/lib/python3.10/dist-packages/pandas/core/frame.py\u001b[0m in \u001b[0;36m__getitem__\u001b[0;34m(self, key)\u001b[0m\n\u001b[1;32m   4100\u001b[0m             \u001b[0;32mif\u001b[0m \u001b[0mself\u001b[0m\u001b[0;34m.\u001b[0m\u001b[0mcolumns\u001b[0m\u001b[0;34m.\u001b[0m\u001b[0mnlevels\u001b[0m \u001b[0;34m>\u001b[0m \u001b[0;36m1\u001b[0m\u001b[0;34m:\u001b[0m\u001b[0;34m\u001b[0m\u001b[0;34m\u001b[0m\u001b[0m\n\u001b[1;32m   4101\u001b[0m                 \u001b[0;32mreturn\u001b[0m \u001b[0mself\u001b[0m\u001b[0;34m.\u001b[0m\u001b[0m_getitem_multilevel\u001b[0m\u001b[0;34m(\u001b[0m\u001b[0mkey\u001b[0m\u001b[0;34m)\u001b[0m\u001b[0;34m\u001b[0m\u001b[0;34m\u001b[0m\u001b[0m\n\u001b[0;32m-> 4102\u001b[0;31m             \u001b[0mindexer\u001b[0m \u001b[0;34m=\u001b[0m \u001b[0mself\u001b[0m\u001b[0;34m.\u001b[0m\u001b[0mcolumns\u001b[0m\u001b[0;34m.\u001b[0m\u001b[0mget_loc\u001b[0m\u001b[0;34m(\u001b[0m\u001b[0mkey\u001b[0m\u001b[0;34m)\u001b[0m\u001b[0;34m\u001b[0m\u001b[0;34m\u001b[0m\u001b[0m\n\u001b[0m\u001b[1;32m   4103\u001b[0m             \u001b[0;32mif\u001b[0m \u001b[0mis_integer\u001b[0m\u001b[0;34m(\u001b[0m\u001b[0mindexer\u001b[0m\u001b[0;34m)\u001b[0m\u001b[0;34m:\u001b[0m\u001b[0;34m\u001b[0m\u001b[0;34m\u001b[0m\u001b[0m\n\u001b[1;32m   4104\u001b[0m                 \u001b[0mindexer\u001b[0m \u001b[0;34m=\u001b[0m \u001b[0;34m[\u001b[0m\u001b[0mindexer\u001b[0m\u001b[0;34m]\u001b[0m\u001b[0;34m\u001b[0m\u001b[0;34m\u001b[0m\u001b[0m\n",
            "\u001b[0;32m/usr/local/lib/python3.10/dist-packages/pandas/core/indexes/base.py\u001b[0m in \u001b[0;36mget_loc\u001b[0;34m(self, key)\u001b[0m\n\u001b[1;32m   3810\u001b[0m             ):\n\u001b[1;32m   3811\u001b[0m                 \u001b[0;32mraise\u001b[0m \u001b[0mInvalidIndexError\u001b[0m\u001b[0;34m(\u001b[0m\u001b[0mkey\u001b[0m\u001b[0;34m)\u001b[0m\u001b[0;34m\u001b[0m\u001b[0;34m\u001b[0m\u001b[0m\n\u001b[0;32m-> 3812\u001b[0;31m             \u001b[0;32mraise\u001b[0m \u001b[0mKeyError\u001b[0m\u001b[0;34m(\u001b[0m\u001b[0mkey\u001b[0m\u001b[0;34m)\u001b[0m \u001b[0;32mfrom\u001b[0m \u001b[0merr\u001b[0m\u001b[0;34m\u001b[0m\u001b[0;34m\u001b[0m\u001b[0m\n\u001b[0m\u001b[1;32m   3813\u001b[0m         \u001b[0;32mexcept\u001b[0m \u001b[0mTypeError\u001b[0m\u001b[0;34m:\u001b[0m\u001b[0;34m\u001b[0m\u001b[0;34m\u001b[0m\u001b[0m\n\u001b[1;32m   3814\u001b[0m             \u001b[0;31m# If we have a listlike key, _check_indexing_error will raise\u001b[0m\u001b[0;34m\u001b[0m\u001b[0;34m\u001b[0m\u001b[0m\n",
            "\u001b[0;31mKeyError\u001b[0m: 'content'"
          ]
        }
      ],
      "source": [
        "def clean_intent_recognition_data(df):\n",
        "    def clean_context(context):\n",
        "        # Remove order number or codes\n",
        "        cleaned_text = re.sub(r'\\b[A-Z0-9]{6, }\\b', '', context)\n",
        "        # Remove any remaining special charecters and extra whitespace\n",
        "        cleaned_text = re.sub(r'[^a-zA-Z\\s]', '', cleaned_text)\n",
        "        return cleaned_text.strip()\n",
        "\n",
        "    def extract_intent(response):\n",
        "        intent_match = re.search(r'intent:\\s*(\\w+)', response)\n",
        "        return intent_match.group(1) if intent_match else None\n",
        "\n",
        "    # Clean the context column\n",
        "    df['cleaned_text'] = df['content'].apply(clean_context)\n",
        "\n",
        "    # Extract intent from the response column\n",
        "    df['intent'] = df[' response'].apply(extract_intent)\n",
        "\n",
        "    # Return only the cleaned text and intent column\n",
        "    return df[['cleaned_text', 'intent']]\n",
        "\n",
        "\n",
        "cleaned_df = clean_intent_recognition_data(df)"
      ]
    },
    {
      "cell_type": "code",
      "execution_count": 40,
      "metadata": {
        "colab": {
          "base_uri": "https://localhost:8080/"
        },
        "id": "7CQyFmDIVTpr",
        "outputId": "1bc051fb-a400-4069-87f4-535998459f69"
      },
      "outputs": [
        {
          "data": {
            "text/plain": [
              "(27869, 4)"
            ]
          },
          "execution_count": 40,
          "metadata": {},
          "output_type": "execute_result"
        }
      ],
      "source": [
        "df.shape"
      ]
    },
    {
      "cell_type": "code",
      "execution_count": null,
      "metadata": {
        "id": "Uax3PGytJPTX",
        "outputId": "66bd72e9-f3b9-4212-a2b3-e2767ae8f3f2"
      },
      "outputs": [
        {
          "data": {
            "text/html": [
              "<div>\n",
              "<style scoped>\n",
              "    .dataframe tbody tr th:only-of-type {\n",
              "        vertical-align: middle;\n",
              "    }\n",
              "\n",
              "    .dataframe tbody tr th {\n",
              "        vertical-align: top;\n",
              "    }\n",
              "\n",
              "    .dataframe thead th {\n",
              "        text-align: right;\n",
              "    }\n",
              "</style>\n",
              "<table border=\"1\" class=\"dataframe\">\n",
              "  <thead>\n",
              "    <tr style=\"text-align: right;\">\n",
              "      <th></th>\n",
              "      <th>cleaned_text</th>\n",
              "      <th>intent</th>\n",
              "    </tr>\n",
              "  </thead>\n",
              "  <tbody>\n",
              "    <tr>\n",
              "      <th>25917</th>\n",
              "      <td>I am trying to find information about a forgot...</td>\n",
              "      <td>recover_password</td>\n",
              "    </tr>\n",
              "    <tr>\n",
              "      <th>2069</th>\n",
              "      <td>modifying details on pro account</td>\n",
              "      <td>edit_account</td>\n",
              "    </tr>\n",
              "    <tr>\n",
              "      <th>21403</th>\n",
              "      <td>do ya deliver to India</td>\n",
              "      <td>delivery_options</td>\n",
              "    </tr>\n",
              "    <tr>\n",
              "      <th>24078</th>\n",
              "      <td>where can i check the bloody eta of order</td>\n",
              "      <td>track_order</td>\n",
              "    </tr>\n",
              "    <tr>\n",
              "      <th>19044</th>\n",
              "      <td>i have problems with opening a freemium account</td>\n",
              "      <td>create_account</td>\n",
              "    </tr>\n",
              "    <tr>\n",
              "      <th>11168</th>\n",
              "      <td>help me to see what payment payment modalities...</td>\n",
              "      <td>check_payment_methods</td>\n",
              "    </tr>\n",
              "    <tr>\n",
              "      <th>7452</th>\n",
              "      <td>I need assistance to talk to an operator</td>\n",
              "      <td>contact_human_agent</td>\n",
              "    </tr>\n",
              "    <tr>\n",
              "      <th>6850</th>\n",
              "      <td>where to make a customer complaint against ur ...</td>\n",
              "      <td>complaint</td>\n",
              "    </tr>\n",
              "    <tr>\n",
              "      <th>11937</th>\n",
              "      <td>where to check what payment payment modalities...</td>\n",
              "      <td>check_payment_methods</td>\n",
              "    </tr>\n",
              "    <tr>\n",
              "      <th>12488</th>\n",
              "      <td>I want assistance to notify of problems with a...</td>\n",
              "      <td>registration_problems</td>\n",
              "    </tr>\n",
              "  </tbody>\n",
              "</table>\n",
              "</div>"
            ],
            "text/plain": [
              "                                            cleaned_text  \\\n",
              "25917  I am trying to find information about a forgot...   \n",
              "2069                    modifying details on pro account   \n",
              "21403                             do ya deliver to India   \n",
              "24078          where can i check the bloody eta of order   \n",
              "19044    i have problems with opening a freemium account   \n",
              "11168  help me to see what payment payment modalities...   \n",
              "7452            I need assistance to talk to an operator   \n",
              "6850   where to make a customer complaint against ur ...   \n",
              "11937  where to check what payment payment modalities...   \n",
              "12488  I want assistance to notify of problems with a...   \n",
              "\n",
              "                      intent  \n",
              "25917       recover_password  \n",
              "2069            edit_account  \n",
              "21403       delivery_options  \n",
              "24078            track_order  \n",
              "19044         create_account  \n",
              "11168  check_payment_methods  \n",
              "7452     contact_human_agent  \n",
              "6850               complaint  \n",
              "11937  check_payment_methods  \n",
              "12488  registration_problems  "
            ]
          },
          "execution_count": 11,
          "metadata": {},
          "output_type": "execute_result"
        }
      ],
      "source": [
        "cleaned_df.sample(10)"
      ]
    },
    {
      "cell_type": "code",
      "execution_count": null,
      "metadata": {
        "id": "yiNN0lQqJPTY"
      },
      "outputs": [],
      "source": [
        "cleaned_df.to_csv('ecommerce_intent_cleaned.csv', index=False)"
      ]
    },
    {
      "cell_type": "markdown",
      "metadata": {
        "id": "tfK_Y5X8JPTa"
      },
      "source": [
        "### Load and preprocess the data"
      ]
    },
    {
      "cell_type": "code",
      "execution_count": 5,
      "metadata": {
        "id": "y3JcKj1MJPTa"
      },
      "outputs": [],
      "source": [
        "def load_data(file_path):\n",
        "    return pd.read_csv(file_path)\n",
        "\n",
        "\n",
        "def preprocess_text(text):\n",
        "    tokens = word_tokenize(text.lower())\n",
        "    tokens = [token for token in tokens if token.isalnum()\n",
        "              and token not in custom_stopwords\n",
        "              and len(token) > 2\n",
        "              ]\n",
        "    lemmatizer = WordNetLemmatizer()\n",
        "    tokens = [lemmatizer.lemmatize(token) for token in tokens]\n",
        "    return tokens\n",
        "\n",
        "\n",
        "file_path = 'ecommerce_intent_cleaned.csv'\n",
        "df = load_data(file_path)\n",
        "df['processed_text'] = df['cleaned_text'].apply(preprocess_text)"
      ]
    },
    {
      "cell_type": "code",
      "execution_count": 6,
      "metadata": {
        "colab": {
          "base_uri": "https://localhost:8080/",
          "height": 363
        },
        "id": "oiwlO6TWJPTg",
        "outputId": "d4bf2bfa-8a09-46ad-8e55-03ea440053c4"
      },
      "outputs": [
        {
          "data": {
            "text/html": [
              "<div>\n",
              "<style scoped>\n",
              "    .dataframe tbody tr th:only-of-type {\n",
              "        vertical-align: middle;\n",
              "    }\n",
              "\n",
              "    .dataframe tbody tr th {\n",
              "        vertical-align: top;\n",
              "    }\n",
              "\n",
              "    .dataframe thead th {\n",
              "        text-align: right;\n",
              "    }\n",
              "</style>\n",
              "<table border=\"1\" class=\"dataframe\">\n",
              "  <thead>\n",
              "    <tr style=\"text-align: right;\">\n",
              "      <th></th>\n",
              "      <th>cleaned_text</th>\n",
              "      <th>intent</th>\n",
              "      <th>processed_text</th>\n",
              "    </tr>\n",
              "  </thead>\n",
              "  <tbody>\n",
              "    <tr>\n",
              "      <th>22539</th>\n",
              "      <td>assistance to swap several items of order</td>\n",
              "      <td>change_order</td>\n",
              "      <td>[assistance, swap, item, order]</td>\n",
              "    </tr>\n",
              "    <tr>\n",
              "      <th>16066</th>\n",
              "      <td>need to subit my new shipping address will uhe...</td>\n",
              "      <td>set_up_shipping_address</td>\n",
              "      <td>[need, subit, new, shipping, address, uhelp]</td>\n",
              "    </tr>\n",
              "    <tr>\n",
              "      <th>11123</th>\n",
              "      <td>I am trying to list your acceoted payment options</td>\n",
              "      <td>check_payment_methods</td>\n",
              "      <td>[trying, list, acceoted, payment, option]</td>\n",
              "    </tr>\n",
              "    <tr>\n",
              "      <th>12915</th>\n",
              "      <td>where do I report an issue iwth signup</td>\n",
              "      <td>registration_problems</td>\n",
              "      <td>[report, issue, iwth, signup]</td>\n",
              "    </tr>\n",
              "    <tr>\n",
              "      <th>3880</th>\n",
              "      <td>I do not know how I can switch to tbe Platinum...</td>\n",
              "      <td>switch_account</td>\n",
              "      <td>[not, know, switch, tbe, platinum, account]</td>\n",
              "    </tr>\n",
              "    <tr>\n",
              "      <th>2385</th>\n",
              "      <td>editing Platinum account</td>\n",
              "      <td>edit_account</td>\n",
              "      <td>[editing, platinum, account]</td>\n",
              "    </tr>\n",
              "    <tr>\n",
              "      <th>7517</th>\n",
              "      <td>need help to talk to an operator</td>\n",
              "      <td>contact_human_agent</td>\n",
              "      <td>[need, help, talk, operator]</td>\n",
              "    </tr>\n",
              "    <tr>\n",
              "      <th>3851</th>\n",
              "      <td>switch to  standard account</td>\n",
              "      <td>switch_account</td>\n",
              "      <td>[switch, standard, account]</td>\n",
              "    </tr>\n",
              "    <tr>\n",
              "      <th>4028</th>\n",
              "      <td>how do I give a quick look at my invoice</td>\n",
              "      <td>check_invoice</td>\n",
              "      <td>[quick, look, invoice]</td>\n",
              "    </tr>\n",
              "    <tr>\n",
              "      <th>10276</th>\n",
              "      <td>I  need assistance to sign up to the newsletter</td>\n",
              "      <td>newsletter_subscription</td>\n",
              "      <td>[need, assistance, sign, newsletter]</td>\n",
              "    </tr>\n",
              "  </tbody>\n",
              "</table>\n",
              "</div>"
            ],
            "text/plain": [
              "                                            cleaned_text  \\\n",
              "22539          assistance to swap several items of order   \n",
              "16066  need to subit my new shipping address will uhe...   \n",
              "11123  I am trying to list your acceoted payment options   \n",
              "12915             where do I report an issue iwth signup   \n",
              "3880   I do not know how I can switch to tbe Platinum...   \n",
              "2385                            editing Platinum account   \n",
              "7517                    need help to talk to an operator   \n",
              "3851                         switch to  standard account   \n",
              "4028            how do I give a quick look at my invoice   \n",
              "10276    I  need assistance to sign up to the newsletter   \n",
              "\n",
              "                        intent                                processed_text  \n",
              "22539             change_order               [assistance, swap, item, order]  \n",
              "16066  set_up_shipping_address  [need, subit, new, shipping, address, uhelp]  \n",
              "11123    check_payment_methods     [trying, list, acceoted, payment, option]  \n",
              "12915    registration_problems                 [report, issue, iwth, signup]  \n",
              "3880            switch_account   [not, know, switch, tbe, platinum, account]  \n",
              "2385              edit_account                  [editing, platinum, account]  \n",
              "7517       contact_human_agent                  [need, help, talk, operator]  \n",
              "3851            switch_account                   [switch, standard, account]  \n",
              "4028             check_invoice                        [quick, look, invoice]  \n",
              "10276  newsletter_subscription          [need, assistance, sign, newsletter]  "
            ]
          },
          "execution_count": 6,
          "metadata": {},
          "output_type": "execute_result"
        }
      ],
      "source": [
        "df.sample(10)"
      ]
    },
    {
      "cell_type": "markdown",
      "metadata": {
        "id": "ZEPAdBvDJPTh"
      },
      "source": [
        "### Create Word2Vec embeddings:"
      ]
    },
    {
      "cell_type": "code",
      "execution_count": 7,
      "metadata": {
        "id": "E5QDvd4JJPTi"
      },
      "outputs": [],
      "source": [
        "def create_word2vec_model(sentences, vector_size=100, window=5, min_count=5, workers=4):\n",
        "    \"\"\"Create Word2Vec model with optimized parameters\"\"\"\n",
        "    model = Word2Vec(\n",
        "        sentences=sentences,\n",
        "        vector_size=vector_size,\n",
        "        window=window,\n",
        "        min_count=min_count,\n",
        "        workers=workers,\n",
        "        max_vocab_size=10000\n",
        "    )\n",
        "    return model"
      ]
    },
    {
      "cell_type": "code",
      "execution_count": 8,
      "metadata": {
        "id": "M9-MKVl5LOLw"
      },
      "outputs": [],
      "source": [
        "# Create and train Word2Vec model\n",
        "word2vec_model = create_word2vec_model(df['processed_text'])"
      ]
    },
    {
      "cell_type": "code",
      "execution_count": 9,
      "metadata": {
        "id": "9QRUhmrMJPTi"
      },
      "outputs": [],
      "source": [
        "def get_document_embedding(tokens, model, vector_size=100):\n",
        "    \"\"\"Get document embedding by averaging word vectors\"\"\"\n",
        "    valid_tokens = [word for word in tokens if word in model.wv]\n",
        "    if not valid_tokens:\n",
        "        return np.zeros(vector_size)\n",
        "\n",
        "    embeddings = [model.wv[word] for word in valid_tokens]\n",
        "    return np.mean(embeddings, axis=0)"
      ]
    },
    {
      "cell_type": "code",
      "execution_count": 10,
      "metadata": {
        "id": "RQckSZBnLfAv"
      },
      "outputs": [],
      "source": [
        "df['doc_vector'] = df['processed_text'].apply(\n",
        "    lambda x: get_document_embedding(x, word2vec_model))"
      ]
    },
    {
      "cell_type": "code",
      "execution_count": 11,
      "metadata": {
        "colab": {
          "base_uri": "https://localhost:8080/",
          "height": 206
        },
        "id": "1WYfRN2VJPTj",
        "outputId": "74729e45-968c-409f-d337-c871d93e4354"
      },
      "outputs": [
        {
          "data": {
            "text/html": [
              "<div>\n",
              "<style scoped>\n",
              "    .dataframe tbody tr th:only-of-type {\n",
              "        vertical-align: middle;\n",
              "    }\n",
              "\n",
              "    .dataframe tbody tr th {\n",
              "        vertical-align: top;\n",
              "    }\n",
              "\n",
              "    .dataframe thead th {\n",
              "        text-align: right;\n",
              "    }\n",
              "</style>\n",
              "<table border=\"1\" class=\"dataframe\">\n",
              "  <thead>\n",
              "    <tr style=\"text-align: right;\">\n",
              "      <th></th>\n",
              "      <th>cleaned_text</th>\n",
              "      <th>intent</th>\n",
              "      <th>processed_text</th>\n",
              "      <th>doc_vector</th>\n",
              "    </tr>\n",
              "  </thead>\n",
              "  <tbody>\n",
              "    <tr>\n",
              "      <th>0</th>\n",
              "      <td>question about cancelling order</td>\n",
              "      <td>cancel_order</td>\n",
              "      <td>[question, cancelling, order]</td>\n",
              "      <td>[0.12172755, -0.15994464, 0.084058195, 0.23277...</td>\n",
              "    </tr>\n",
              "    <tr>\n",
              "      <th>1</th>\n",
              "      <td>i have a question about cancelling oorder</td>\n",
              "      <td>cancel_order</td>\n",
              "      <td>[question, cancelling, oorder]</td>\n",
              "      <td>[0.10925479, -0.27430776, 0.13146523, 0.279030...</td>\n",
              "    </tr>\n",
              "    <tr>\n",
              "      <th>2</th>\n",
              "      <td>i need help cancelling puchase</td>\n",
              "      <td>cancel_order</td>\n",
              "      <td>[need, help, cancelling, puchase]</td>\n",
              "      <td>[-0.018959783, -0.027813861, 0.031375427, 0.29...</td>\n",
              "    </tr>\n",
              "    <tr>\n",
              "      <th>3</th>\n",
              "      <td>I need to cancel purchase</td>\n",
              "      <td>cancel_order</td>\n",
              "      <td>[need, cancel, purchase]</td>\n",
              "      <td>[-0.0058619115, -0.14750524, 0.11288494, 0.197...</td>\n",
              "    </tr>\n",
              "    <tr>\n",
              "      <th>4</th>\n",
              "      <td>I cannot afford this order cancel purchase</td>\n",
              "      <td>cancel_order</td>\n",
              "      <td>[not, afford, order, cancel, purchase]</td>\n",
              "      <td>[0.09722481, -0.15432394, 0.1501028, 0.1664212...</td>\n",
              "    </tr>\n",
              "  </tbody>\n",
              "</table>\n",
              "</div>"
            ],
            "text/plain": [
              "                                 cleaned_text        intent  \\\n",
              "0             question about cancelling order  cancel_order   \n",
              "1   i have a question about cancelling oorder  cancel_order   \n",
              "2              i need help cancelling puchase  cancel_order   \n",
              "3                   I need to cancel purchase  cancel_order   \n",
              "4  I cannot afford this order cancel purchase  cancel_order   \n",
              "\n",
              "                           processed_text  \\\n",
              "0           [question, cancelling, order]   \n",
              "1          [question, cancelling, oorder]   \n",
              "2       [need, help, cancelling, puchase]   \n",
              "3                [need, cancel, purchase]   \n",
              "4  [not, afford, order, cancel, purchase]   \n",
              "\n",
              "                                          doc_vector  \n",
              "0  [0.12172755, -0.15994464, 0.084058195, 0.23277...  \n",
              "1  [0.10925479, -0.27430776, 0.13146523, 0.279030...  \n",
              "2  [-0.018959783, -0.027813861, 0.031375427, 0.29...  \n",
              "3  [-0.0058619115, -0.14750524, 0.11288494, 0.197...  \n",
              "4  [0.09722481, -0.15432394, 0.1501028, 0.1664212...  "
            ]
          },
          "execution_count": 11,
          "metadata": {},
          "output_type": "execute_result"
        }
      ],
      "source": [
        "df.head()"
      ]
    },
    {
      "cell_type": "markdown",
      "metadata": {
        "id": "8-33UK80JPTk"
      },
      "source": [
        "### Prepare data for training:"
      ]
    },
    {
      "cell_type": "code",
      "execution_count": 12,
      "metadata": {
        "colab": {
          "base_uri": "https://localhost:8080/",
          "height": 458
        },
        "id": "8fuyjahJMUyA",
        "outputId": "37b42bbc-f527-4f84-d279-a35f217531d2"
      },
      "outputs": [
        {
          "data": {
            "text/plain": [
              "0                  cancel_order\n",
              "1                  cancel_order\n",
              "2                  cancel_order\n",
              "3                  cancel_order\n",
              "4                  cancel_order\n",
              "                  ...          \n",
              "27864    check_cancellation_fee\n",
              "27865    check_cancellation_fee\n",
              "27866    check_cancellation_fee\n",
              "27867    check_cancellation_fee\n",
              "27868    check_cancellation_fee\n",
              "Name: intent, Length: 27869, dtype: object"
            ]
          },
          "execution_count": 12,
          "metadata": {},
          "output_type": "execute_result"
        }
      ],
      "source": [
        "df['intent']"
      ]
    },
    {
      "cell_type": "code",
      "execution_count": 13,
      "metadata": {
        "colab": {
          "base_uri": "https://localhost:8080/"
        },
        "id": "rq-RDecjJPTk",
        "outputId": "e2939072-48ca-4bf8-83cd-85131914e00c"
      },
      "outputs": [
        {
          "name": "stdout",
          "output_type": "stream",
          "text": [
            "Intent label mapping: {0: 'cancel_order', 1: 'change_order', 2: 'edit_account', 3: 'switch_account', 4: 'check_invoice', 5: 'contact_customer_service', 6: 'complaint', 7: 'contact_human_agent', 8: 'delivery_period', 9: 'get_invoice', 10: 'newsletter_subscription', 11: 'check_payment_methods', 12: 'registration_problems', 13: 'payment_issue', 14: 'place_order', 15: 'track_refund', 16: 'set_up_shipping_address', 17: 'get_refund', 18: 'check_refund_policy', 19: 'create_account', 20: 'review', 21: 'delivery_options', 22: 'delete_account', 23: 'track_order', 24: 'recover_password', 25: 'change_shipping_address', 26: 'check_cancellation_fee'}\n"
          ]
        }
      ],
      "source": [
        "unique_intents = df['intent'].unique()\n",
        "# Create a mapping dictionary before label encoding\n",
        "intent_label_mapping = {idx: label for idx, label in enumerate(unique_intents)}\n",
        "print(\"Intent label mapping:\", intent_label_mapping)\n",
        "\n",
        "X = np.array(df['doc_vector'].tolist())\n",
        "le = LabelEncoder()\n",
        "y = le.fit_transform(df['intent'])\n",
        "\n",
        "X_train, X_test, y_train, y_test = train_test_split(\n",
        "    X, y, test_size=0.2, random_state=42)"
      ]
    },
    {
      "cell_type": "markdown",
      "metadata": {
        "id": "uyK-604tJPTl"
      },
      "source": [
        "### Train an XGBoost Forest Classifier:"
      ]
    },
    {
      "cell_type": "code",
      "execution_count": 14,
      "metadata": {
        "colab": {
          "base_uri": "https://localhost:8080/"
        },
        "id": "H4eh4-BAJPTl",
        "outputId": "727374d2-2c37-42c3-aed7-1d711d73210d"
      },
      "outputs": [
        {
          "name": "stdout",
          "output_type": "stream",
          "text": [
            "[0]\ttrain-mlogloss:2.22430\ttest-mlogloss:2.23495\n",
            "[10]\ttrain-mlogloss:0.65425\ttest-mlogloss:0.70912\n",
            "[20]\ttrain-mlogloss:0.26975\ttest-mlogloss:0.33460\n",
            "[30]\ttrain-mlogloss:0.12491\ttest-mlogloss:0.19223\n",
            "[40]\ttrain-mlogloss:0.06653\ttest-mlogloss:0.13393\n",
            "[50]\ttrain-mlogloss:0.04194\ttest-mlogloss:0.10866\n",
            "[60]\ttrain-mlogloss:0.03093\ttest-mlogloss:0.09721\n",
            "[70]\ttrain-mlogloss:0.02565\ttest-mlogloss:0.09177\n",
            "[80]\ttrain-mlogloss:0.02287\ttest-mlogloss:0.08895\n",
            "[90]\ttrain-mlogloss:0.02128\ttest-mlogloss:0.08781\n",
            "[100]\ttrain-mlogloss:0.02029\ttest-mlogloss:0.08713\n",
            "[110]\ttrain-mlogloss:0.01963\ttest-mlogloss:0.08650\n",
            "[120]\ttrain-mlogloss:0.01915\ttest-mlogloss:0.08656\n",
            "[124]\ttrain-mlogloss:0.01900\ttest-mlogloss:0.08666\n"
          ]
        }
      ],
      "source": [
        "# Prepare the data for XGBoost\n",
        "dtrain = xgb.DMatrix(X_train, label=y_train)\n",
        "dtest = xgb.DMatrix(X_test, label=y_test)\n",
        "\n",
        "# Set XGBoost parameters\n",
        "params = {\n",
        "    'objective': 'multi:softmax',\n",
        "    'num_class': df['intent'].nunique(),\n",
        "    'max_depth': 10,\n",
        "    'learning_rate': 0.1,\n",
        "    'subsample': 0.8,\n",
        "    'colsample_bytree': 0.8,\n",
        "    'tree_method': 'hist',  # for faster training\n",
        "    'eval_metric': 'mlogloss',\n",
        "    'random_state': 42\n",
        "}\n",
        "\n",
        "# Train XGBoost model\n",
        "num_rounds = 500\n",
        "clf = xgb.train(\n",
        "    params,\n",
        "    dtrain,\n",
        "    num_rounds,\n",
        "    evals=[(dtrain, 'train'), (dtest, 'test')],\n",
        "    early_stopping_rounds=10,\n",
        "    verbose_eval=10\n",
        ")"
      ]
    },
    {
      "cell_type": "code",
      "execution_count": 15,
      "metadata": {
        "colab": {
          "base_uri": "https://localhost:8080/"
        },
        "id": "0evncQN-Nlew",
        "outputId": "f37480f6-2b88-477c-e151-2e3fda624b2b"
      },
      "outputs": [
        {
          "data": {
            "text/plain": [
              "['word2vec_model_intent.joblib']"
            ]
          },
          "execution_count": 15,
          "metadata": {},
          "output_type": "execute_result"
        }
      ],
      "source": [
        "# Save both the classifier and all necessary components including the mapping\n",
        "components_to_save = {\n",
        "    'classifier': clf,\n",
        "    'label_encoder': le,\n",
        "    'intent_label_mapping': intent_label_mapping,\n",
        "    'original_intent_labels': unique_intents\n",
        "}\n",
        "joblib.dump(components_to_save, 'xgboost_classifier_model_intent.joblib')\n",
        "joblib.dump(word2vec_model, 'word2vec_model_intent.joblib')"
      ]
    },
    {
      "cell_type": "markdown",
      "metadata": {
        "id": "GE_CqxxWJPTm"
      },
      "source": [
        "### Evaluate the model"
      ]
    },
    {
      "cell_type": "code",
      "execution_count": 16,
      "metadata": {
        "colab": {
          "base_uri": "https://localhost:8080/",
          "height": 1000
        },
        "id": "e39pI9SNJPTm",
        "outputId": "8ab28d51-e965-4fe6-9bb9-1fa2d7d13852"
      },
      "outputs": [
        {
          "name": "stdout",
          "output_type": "stream",
          "text": [
            "                          precision    recall  f1-score   support\n",
            "\n",
            "            cancel_order       0.98      0.96      0.97       187\n",
            "            change_order       0.97      0.99      0.98       406\n",
            " change_shipping_address       0.98      0.98      0.98       191\n",
            "  check_cancellation_fee       1.00      0.99      1.00       198\n",
            "           check_invoice       0.92      0.85      0.89       198\n",
            "   check_payment_methods       1.00      1.00      1.00       200\n",
            "     check_refund_policy       0.98      0.99      0.99       200\n",
            "               complaint       1.00      1.00      1.00       187\n",
            "contact_customer_service       0.98      1.00      0.99       204\n",
            "     contact_human_agent       0.99      0.99      0.99       205\n",
            "          create_account       0.96      0.95      0.96       193\n",
            "          delete_account       0.94      0.93      0.93       207\n",
            "        delivery_options       1.00      1.00      1.00       210\n",
            "         delivery_period       1.00      0.99      0.99       213\n",
            "            edit_account       0.99      0.98      0.98       221\n",
            "             get_invoice       0.85      0.92      0.88       192\n",
            "              get_refund       0.99      0.96      0.97       185\n",
            " newsletter_subscription       1.00      1.00      1.00       214\n",
            "           payment_issue       0.99      0.99      0.99       193\n",
            "             place_order       0.92      0.96      0.94       208\n",
            "        recover_password       0.99      1.00      1.00       190\n",
            "   registration_problems       1.00      0.99      0.99       211\n",
            "                  review       0.99      0.99      0.99       182\n",
            " set_up_shipping_address       0.99      0.99      0.99       202\n",
            "          switch_account       0.91      0.94      0.93       193\n",
            "             track_order       0.99      0.93      0.96       192\n",
            "            track_refund       0.98      0.99      0.99       192\n",
            "\n",
            "                accuracy                           0.97      5574\n",
            "               macro avg       0.97      0.97      0.97      5574\n",
            "            weighted avg       0.97      0.97      0.97      5574\n",
            "\n"
          ]
        },
        {
          "data": {
            "image/png": "[encoded data removed]",
            "text/plain": [
              "<Figure size 1000x800 with 2 Axes>"
            ]
          },
          "metadata": {},
          "output_type": "display_data"
        }
      ],
      "source": [
        "# Predict and evaluate\n",
        "y_pred = clf.predict(dtest)\n",
        "\n",
        "# Convert predictions back to original labels for the classification report\n",
        "y_test_original = le.inverse_transform(y_test)\n",
        "y_pred_original = le.inverse_transform(y_pred.astype(int))\n",
        "print(classification_report(y_test_original, y_pred_original))\n",
        "\n",
        "cm = confusion_matrix(y_test, y_pred)\n",
        "plt.figure(figsize=(10, 8))\n",
        "sns.heatmap(cm, annot=True, fmt='d', cmap='Blues')\n",
        "plt.xlabel('Predicted')\n",
        "plt.ylabel('True')\n",
        "plt.title('Confusion Matrix')\n",
        "plt.show()"
      ]
    },
    {
      "cell_type": "markdown",
      "metadata": {
        "id": "aywvXcXHJPTm"
      },
      "source": [
        "### Create a function to predict intent for new texts:"
      ]
    },
    {
      "cell_type": "code",
      "execution_count": 18,
      "metadata": {
        "colab": {
          "base_uri": "https://localhost:8080/"
        },
        "id": "IfnwXOePJPTn",
        "outputId": "88417142-c41f-4dab-af90-b94abe202d54"
      },
      "outputs": [
        {
          "name": "stdout",
          "output_type": "stream",
          "text": [
            "Testing prediction...\n",
            "Predicted intent: place_order\n",
            "\n",
            "Available intents mapping:\n",
            "Index 0: cancel_order\n",
            "Index 1: change_order\n",
            "Index 2: edit_account\n",
            "Index 3: switch_account\n",
            "Index 4: check_invoice\n",
            "Index 5: contact_customer_service\n",
            "Index 6: complaint\n",
            "Index 7: contact_human_agent\n",
            "Index 8: delivery_period\n",
            "Index 9: get_invoice\n",
            "Index 10: newsletter_subscription\n",
            "Index 11: check_payment_methods\n",
            "Index 12: registration_problems\n",
            "Index 13: payment_issue\n",
            "Index 14: place_order\n",
            "Index 15: track_refund\n",
            "Index 16: set_up_shipping_address\n",
            "Index 17: get_refund\n",
            "Index 18: check_refund_policy\n",
            "Index 19: create_account\n",
            "Index 20: review\n",
            "Index 21: delivery_options\n",
            "Index 22: delete_account\n",
            "Index 23: track_order\n",
            "Index 24: recover_password\n",
            "Index 25: change_shipping_address\n",
            "Index 26: check_cancellation_fee\n"
          ]
        }
      ],
      "source": [
        "def predict_intent(text, word2vec_model, models_dict):\n",
        "    clf = models_dict['classifier']\n",
        "    intent_label_mapping = models_dict['intent_label_mapping']\n",
        "\n",
        "    processed_text = preprocess_text(text)\n",
        "    embedding = get_document_embedding(processed_text, word2vec_model)\n",
        "    dpredict = xgb.DMatrix(np.array([embedding]))\n",
        "    prediction = int(clf.predict(dpredict)[0])\n",
        "\n",
        "    # Convert numeric prediction to text label using the mapping\n",
        "    intent_label = intent_label_mapping.get(prediction, \"Unknown Intent\")\n",
        "    return intent_label\n",
        "\n",
        "\n",
        "# Example usage\n",
        "print(\"Testing prediction...\")\n",
        "models_dict = joblib.load('xgboost_classifier_model_intent.joblib')\n",
        "load_word2vec_model = joblib.load('word2vec_model_intent.joblib')\n",
        "\n",
        "new_text = \"I'm having trouble logging into my account. Can you help?\"\n",
        "predicted_intent = predict_intent(new_text, load_word2vec_model, models_dict)\n",
        "print(f\"Predicted intent: {predicted_intent}\")\n",
        "\n",
        "# For debugging\n",
        "print(\"\\nAvailable intents mapping:\")\n",
        "for idx, label in models_dict['intent_label_mapping'].items():\n",
        "    print(f\"Index {idx}: {label}\")"
      ]
    },
    {
      "cell_type": "markdown",
      "metadata": {
        "id": "dtWVFgjXJPTn"
      },
      "source": [
        "### Improve the model with TF-IDF features:"
      ]
    },
    {
      "cell_type": "code",
      "execution_count": 19,
      "metadata": {
        "colab": {
          "base_uri": "https://localhost:8080/"
        },
        "id": "_GBuVrCsJPTn",
        "outputId": "7b4f3f89-0f82-4d80-bf1a-f7846acb193a"
      },
      "outputs": [
        {
          "name": "stdout",
          "output_type": "stream",
          "text": [
            "[0]\ttrain-mlogloss:2.18965\ttest-mlogloss:2.20904\n",
            "[10]\ttrain-mlogloss:0.62192\ttest-mlogloss:0.66565\n",
            "[20]\ttrain-mlogloss:0.24298\ttest-mlogloss:0.28658\n",
            "[30]\ttrain-mlogloss:0.10220\ttest-mlogloss:0.14257\n",
            "[40]\ttrain-mlogloss:0.04685\ttest-mlogloss:0.08503\n",
            "[50]\ttrain-mlogloss:0.02395\ttest-mlogloss:0.06030\n",
            "[60]\ttrain-mlogloss:0.01403\ttest-mlogloss:0.04941\n",
            "[70]\ttrain-mlogloss:0.00938\ttest-mlogloss:0.04400\n",
            "[80]\ttrain-mlogloss:0.00696\ttest-mlogloss:0.04082\n",
            "[90]\ttrain-mlogloss:0.00560\ttest-mlogloss:0.03926\n",
            "[100]\ttrain-mlogloss:0.00475\ttest-mlogloss:0.03827\n",
            "[110]\ttrain-mlogloss:0.00417\ttest-mlogloss:0.03784\n",
            "[120]\ttrain-mlogloss:0.00377\ttest-mlogloss:0.03753\n",
            "[130]\ttrain-mlogloss:0.00348\ttest-mlogloss:0.03747\n",
            "[140]\ttrain-mlogloss:0.00326\ttest-mlogloss:0.03744\n",
            "[142]\ttrain-mlogloss:0.00322\ttest-mlogloss:0.03746\n"
          ]
        },
        {
          "data": {
            "text/plain": [
              "['intent_recognition_components.joblib']"
            ]
          },
          "execution_count": 19,
          "metadata": {},
          "output_type": "execute_result"
        }
      ],
      "source": [
        "tfidf_vectorizer = TfidfVectorizer(max_features=1000)\n",
        "tfidf_features = tfidf_vectorizer.fit_transform(df['cleaned_text'])\n",
        "\n",
        "X_combined = np.hstack((X, tfidf_features.toarray()))\n",
        "X_train_combined, X_test_combined, y_train, y_test = train_test_split(\n",
        "    X_combined, y, test_size=0.2, random_state=42)\n",
        "\n",
        "dtrain_combined = xgb.DMatrix(X_train_combined, label=y_train)\n",
        "dtest_combined = xgb.DMatrix(X_test_combined, label=y_test)\n",
        "\n",
        "# Train XGBoost with combined features\n",
        "params = {\n",
        "    'objective': 'multi:softmax',\n",
        "    'num_class': df['intent'].nunique(),\n",
        "    'max_depth': 10,\n",
        "    'learning_rate': 0.1,\n",
        "    'subsample': 0.8,\n",
        "    'colsample_bytree': 0.8,\n",
        "    'tree_method': 'hist',\n",
        "    'eval_metric': 'mlogloss',\n",
        "    'random_state': 42\n",
        "}\n",
        "\n",
        "clf_combined = xgb.train(\n",
        "    params,\n",
        "    dtrain_combined,\n",
        "    num_rounds,\n",
        "    evals=[(dtrain_combined, 'train'), (dtest_combined, 'test')],\n",
        "    early_stopping_rounds=10,\n",
        "    verbose_eval=10\n",
        ")"
      ]
    },
    {
      "cell_type": "code",
      "execution_count": 23,
      "metadata": {},
      "outputs": [
        {
          "data": {
            "text/plain": [
              "['intent_recognition_components.joblib']"
            ]
          },
          "execution_count": 23,
          "metadata": {},
          "output_type": "execute_result"
        }
      ],
      "source": [
        "# Save all necessary components\n",
        "components_to_save = {\n",
        "    'classifier': clf_combined,\n",
        "    'label_encoder': le,\n",
        "    'tfidf_vectorizer': tfidf_vectorizer,\n",
        "    'word2vec_model': word2vec_model,\n",
        "    'intent_label_mapping': models_dict['intent_label_mapping']\n",
        "}\n",
        "joblib.dump(components_to_save, 'intent_recognition_components.joblib')"
      ]
    },
    {
      "cell_type": "code",
      "execution_count": 20,
      "metadata": {
        "colab": {
          "base_uri": "https://localhost:8080/"
        },
        "id": "fWMxDPndRRIk",
        "outputId": "1b9945e3-0670-496e-8b82-f13ca6a153a7"
      },
      "outputs": [
        {
          "name": "stdout",
          "output_type": "stream",
          "text": [
            "Predicted intent: edit_account\n"
          ]
        }
      ],
      "source": [
        "def predict_intent(text, components):\n",
        "    # Extract components\n",
        "    clf = components['classifier']\n",
        "    label_encoder = components['label_encoder']\n",
        "    word2vec_model = components['word2vec_model']\n",
        "    tfidf_vectorizer = components['tfidf_vectorizer']\n",
        "\n",
        "    # Process text\n",
        "    processed_text = preprocess_text(text)\n",
        "\n",
        "    # Get Word2Vec embedding\n",
        "    w2v_embedding = get_document_embedding(processed_text, word2vec_model)\n",
        "\n",
        "    # Get TF-IDF features\n",
        "    tfidf_features = tfidf_vectorizer.transform([text]).toarray()\n",
        "\n",
        "    # Combine features\n",
        "    combined_features = np.hstack((w2v_embedding, tfidf_features[0]))\n",
        "\n",
        "    # Create DMatrix and predict\n",
        "    dpredict = xgb.DMatrix(np.array([combined_features]))\n",
        "    prediction_idx = int(clf.predict(dpredict)[0])\n",
        "\n",
        "    # Convert to original label\n",
        "    intent_label = label_encoder.inverse_transform([prediction_idx])[0]\n",
        "\n",
        "    return intent_label\n",
        "\n",
        "\n",
        "# Example usage\n",
        "components = joblib.load('intent_recognition_components.joblib')\n",
        "new_text = \"I'm having trouble logging into my account. Can you help me?\"\n",
        "predicted_intent = predict_intent(new_text, components)\n",
        "print(f\"Predicted intent: {predicted_intent}\")"
      ]
    }
  ],
  "metadata": {
    "accelerator": "GPU",
    "colab": {
      "gpuType": "T4",
      "provenance": []
    },
    "kernelspec": {
      "display_name": "Python 3",
      "name": "python3"
    },
    "language_info": {
      "codemirror_mode": {
        "name": "ipython",
        "version": 3
      },
      "file_extension": ".py",
      "mimetype": "text/x-python",
      "name": "python",
      "nbconvert_exporter": "python",
      "pygments_lexer": "ipython3",
      "version": "3.10.12"
    }
  },
  "nbformat": 4,
  "nbformat_minor": 0
}
